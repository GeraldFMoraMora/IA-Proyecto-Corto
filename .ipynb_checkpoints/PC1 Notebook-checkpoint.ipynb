{
 "cells": [
  {
   "cell_type": "markdown",
   "metadata": {},
   "source": [
    "# Inteligencia Artificial\n",
    "## Proyecto Corto 1\n",
    "\n",
    "Enlace de GitHub: https://github.com/GeraldFMoraMora/IA-Proyecto-Corto\n",
    "\n",
    "#### Integrantes:\n",
    "\n",
    " - Brayan Fajardo Alvarado\n",
    " - Fabricio Castillo Alvarado\n",
    " - Gerald Mora Mora"
   ]
  },
  {
   "cell_type": "markdown",
   "metadata": {},
   "source": [
    "# Descenso de la Gradiente Estocástico (Stochastic Gradient Descent)\n",
    "\n",
    "\n",
    "\n",
    "Es un algoritmo de optimización de primer orden y una variación del algoritmo de descenso de la gradiente (Gradient Descent).\n",
    "\n",
    "Se utiliza para aprender un conjunto de coeficientes de clasificación para el aprendizaje parametrizado, implementado sobretodo en conjuntos grandes de datos, pues este es más rápido en comparación a otros métodos matemáticos como el método estándar de gradient descent, además de que a su misma vez se evita realizar desperdicios computacionales.\n",
    "\n",
    "\n"
   ]
  },
  {
   "cell_type": "markdown",
   "metadata": {},
   "source": [
    "$$ θ:=θ−α∇θJi(θ)$$\n",
    "\n",
    "\n",
    "- $ θ $ es el valor que genera el SDG después de ejecutarse.\n",
    "- $ α $ es la tasa de aprendizaje del algoritmo.\n",
    "- $ ∇θ $ es el gradiente del valor generado (pendiente en un punto dado)\n",
    "\n"
   ]
  },
  {
   "cell_type": "markdown",
   "metadata": {},
   "source": [
    "La diferencia que presenta con respecto al método de descenso de la gradiente es que se actualiza la matriz de pesos W en pequeños conjuntos de o arreglos de datos de entrenamiento.\n",
    "\n",
    "Este algoritmo permite realizar más pasos sobre el gradiente lo cual implica un paso por lote en comparación a un paso por época, lo que permite una convergencia más rápida que no va a afectar la precisión ni la pérdida de la clasificación.\n",
    "\n",
    "El objetivo de desarrollo de este método es evitar lo que ocurría en grandes conjuntos de datos con el algoritmo de descenso de gradiente, en el que para cada iteración de descenso de gradiente se requiere que se calcule una predicción para cada punto de entrenamiento del conjunto de datos de entrenamiento, esto se traduce a que por el cálculo de predicciones para cada punto se debe realizar la actualización de la matriz de pesos W, lo cual es un desperdicio computacional."
   ]
  },
  {
   "cell_type": "markdown",
   "metadata": {},
   "source": [
    "# Ejemplo de Código en Python"
   ]
  },
  {
   "cell_type": "markdown",
   "metadata": {},
   "source": [
    "El siguiente ejemplo muestra la ejecución del la búsqueda de un punto mínimo en un conjunto de  datos con el algoritmo de Descenso de la Gradiente Estocástico.\n",
    "\n",
    "* Ratio de Aprendizaje Establecido: 0.01\n",
    "    \n",
    "* Cantidad de Desplazamiento (epochs) establecidos: 100\n",
    "    \n"
   ]
  },
  {
   "cell_type": "code",
   "execution_count": 36,
   "metadata": {},
   "outputs": [],
   "source": [
    "import random"
   ]
  },
  {
   "cell_type": "markdown",
   "metadata": {},
   "source": [
    "El primer paso es desarrollar una función para realizar predicciones.\n",
    "\n",
    "Es necesaria en la evaluación de los valores del coeficiente del candidato en el descenso del gradiente del estocástico.\n",
    "\n",
    "La función **predict** predice un valor de salida para una fila dado un conjunto de coeficientes."
   ]
  },
  {
   "cell_type": "code",
   "execution_count": 37,
   "metadata": {},
   "outputs": [],
   "source": [
    "def predict(row, coefficients):\n",
    "\tyhat = coefficients[0]\n",
    "\tfor i in range(len(row)-1):\n",
    "\t\tyhat += coefficients[i + 1] * row[i]\n",
    "\treturn yhat"
   ]
  },
  {
   "cell_type": "markdown",
   "metadata": {},
   "source": [
    "Por medio de la función **coefficients_sgd(train, l_rate, n_epoch)**, podemos estimar los valores de los coeficientes para los datos de entrenamiento por medio del descendo de gradiente estocástico (SDG).\n",
    "\n",
    "SDG utiliza 2 parámetros para el cálculo de las funciones:\n",
    "\n",
    "- l_rate: Indica la taza o el ratio de aprendizaje, con el que se limita la cantidad del número de veces que se ejecutan los datos de entrenamiento mientras se actualizan los coeficientes.\n",
    "\n",
    "- n_epoch (épocas): El número de veces que se ejecutan los datos de entrenamiento mientras se actualizan los coeficientes.\n",
    "\n",
    "\n",
    "Los coeficientes se actualizan en función del error cometido por el modelo. El error se calcula como la diferencia entre la predicción hecha con los coeficientes candidatos y el valor de salida esperado."
   ]
  },
  {
   "cell_type": "code",
   "execution_count": 38,
   "metadata": {},
   "outputs": [],
   "source": [
    "\n",
    "# Estimate linear regression coefficients using stochastic gradient descent\n",
    "def coefficients_sgd(train, l_rate, n_epoch):\n",
    "\tcoef = [0.0 for i in range(len(train[0]))]\n",
    "\tfor epoch in range(n_epoch):\n",
    "\t\tsum_error = 0\n",
    "\t\tfor row in train:\n",
    "\t\t\tyhat = predict(row, coef)\n",
    "\t\t\terror = yhat - row[-1]\n",
    "\t\t\tsum_error += error**2\n",
    "\t\t\tcoef[0] = coef[0] - l_rate * error\n",
    "\t\t\tfor i in range(len(row)-1):\n",
    "\t\t\t\tcoef[i + 1] = coef[i + 1] - l_rate * error * row[i]\n",
    "\t\tprint('>epoch=%d, lrate=%.3f, error=%.3f' % (epoch, l_rate, sum_error))\n",
    "\treturn coef\n",
    " \n"
   ]
  },
  {
   "cell_type": "markdown",
   "metadata": {},
   "source": [
    "Se realiza la ejecución del algoritmo con un learning rate de 0.010 y una cantidad de 100 epoch's (épocas). Se imprime el grado de error de la aproximación"
   ]
  },
  {
   "cell_type": "code",
   "execution_count": 39,
   "metadata": {},
   "outputs": [
    {
     "name": "stdout",
     "output_type": "stream",
     "text": [
      ">epoch=0, lrate=0.010, error=151.540\n",
      ">epoch=1, lrate=0.010, error=108.048\n",
      ">epoch=2, lrate=0.010, error=107.827\n",
      ">epoch=3, lrate=0.010, error=107.606\n",
      ">epoch=4, lrate=0.010, error=107.386\n",
      ">epoch=5, lrate=0.010, error=107.168\n",
      ">epoch=6, lrate=0.010, error=106.950\n",
      ">epoch=7, lrate=0.010, error=106.733\n",
      ">epoch=8, lrate=0.010, error=106.517\n",
      ">epoch=9, lrate=0.010, error=106.302\n",
      ">epoch=10, lrate=0.010, error=106.088\n",
      ">epoch=11, lrate=0.010, error=105.875\n",
      ">epoch=12, lrate=0.010, error=105.663\n",
      ">epoch=13, lrate=0.010, error=105.452\n",
      ">epoch=14, lrate=0.010, error=105.241\n",
      ">epoch=15, lrate=0.010, error=105.032\n",
      ">epoch=16, lrate=0.010, error=104.823\n",
      ">epoch=17, lrate=0.010, error=104.615\n",
      ">epoch=18, lrate=0.010, error=104.409\n",
      ">epoch=19, lrate=0.010, error=104.203\n",
      ">epoch=20, lrate=0.010, error=103.998\n",
      ">epoch=21, lrate=0.010, error=103.794\n",
      ">epoch=22, lrate=0.010, error=103.590\n",
      ">epoch=23, lrate=0.010, error=103.388\n",
      ">epoch=24, lrate=0.010, error=103.186\n",
      ">epoch=25, lrate=0.010, error=102.986\n",
      ">epoch=26, lrate=0.010, error=102.786\n",
      ">epoch=27, lrate=0.010, error=102.587\n",
      ">epoch=28, lrate=0.010, error=102.389\n",
      ">epoch=29, lrate=0.010, error=102.192\n",
      ">epoch=30, lrate=0.010, error=101.996\n",
      ">epoch=31, lrate=0.010, error=101.800\n",
      ">epoch=32, lrate=0.010, error=101.605\n",
      ">epoch=33, lrate=0.010, error=101.412\n",
      ">epoch=34, lrate=0.010, error=101.219\n",
      ">epoch=35, lrate=0.010, error=101.026\n",
      ">epoch=36, lrate=0.010, error=100.835\n",
      ">epoch=37, lrate=0.010, error=100.645\n",
      ">epoch=38, lrate=0.010, error=100.455\n",
      ">epoch=39, lrate=0.010, error=100.266\n",
      ">epoch=40, lrate=0.010, error=100.078\n",
      ">epoch=41, lrate=0.010, error=99.891\n",
      ">epoch=42, lrate=0.010, error=99.704\n",
      ">epoch=43, lrate=0.010, error=99.519\n",
      ">epoch=44, lrate=0.010, error=99.334\n",
      ">epoch=45, lrate=0.010, error=99.150\n",
      ">epoch=46, lrate=0.010, error=98.967\n",
      ">epoch=47, lrate=0.010, error=98.784\n",
      ">epoch=48, lrate=0.010, error=98.603\n",
      ">epoch=49, lrate=0.010, error=98.422\n",
      ">epoch=50, lrate=0.010, error=98.242\n",
      ">epoch=51, lrate=0.010, error=98.063\n",
      ">epoch=52, lrate=0.010, error=97.884\n",
      ">epoch=53, lrate=0.010, error=97.706\n",
      ">epoch=54, lrate=0.010, error=97.529\n",
      ">epoch=55, lrate=0.010, error=97.353\n",
      ">epoch=56, lrate=0.010, error=97.178\n",
      ">epoch=57, lrate=0.010, error=97.003\n",
      ">epoch=58, lrate=0.010, error=96.829\n",
      ">epoch=59, lrate=0.010, error=96.656\n",
      ">epoch=60, lrate=0.010, error=96.484\n",
      ">epoch=61, lrate=0.010, error=96.312\n",
      ">epoch=62, lrate=0.010, error=96.141\n",
      ">epoch=63, lrate=0.010, error=95.971\n",
      ">epoch=64, lrate=0.010, error=95.801\n",
      ">epoch=65, lrate=0.010, error=95.633\n",
      ">epoch=66, lrate=0.010, error=95.465\n",
      ">epoch=67, lrate=0.010, error=95.297\n",
      ">epoch=68, lrate=0.010, error=95.131\n",
      ">epoch=69, lrate=0.010, error=94.965\n",
      ">epoch=70, lrate=0.010, error=94.800\n",
      ">epoch=71, lrate=0.010, error=94.636\n",
      ">epoch=72, lrate=0.010, error=94.472\n",
      ">epoch=73, lrate=0.010, error=94.309\n",
      ">epoch=74, lrate=0.010, error=94.147\n",
      ">epoch=75, lrate=0.010, error=93.985\n",
      ">epoch=76, lrate=0.010, error=93.824\n",
      ">epoch=77, lrate=0.010, error=93.664\n",
      ">epoch=78, lrate=0.010, error=93.505\n",
      ">epoch=79, lrate=0.010, error=93.346\n",
      ">epoch=80, lrate=0.010, error=93.188\n",
      ">epoch=81, lrate=0.010, error=93.031\n",
      ">epoch=82, lrate=0.010, error=92.874\n",
      ">epoch=83, lrate=0.010, error=92.718\n",
      ">epoch=84, lrate=0.010, error=92.563\n",
      ">epoch=85, lrate=0.010, error=92.408\n",
      ">epoch=86, lrate=0.010, error=92.254\n",
      ">epoch=87, lrate=0.010, error=92.101\n",
      ">epoch=88, lrate=0.010, error=91.948\n",
      ">epoch=89, lrate=0.010, error=91.796\n",
      ">epoch=90, lrate=0.010, error=91.645\n",
      ">epoch=91, lrate=0.010, error=91.495\n",
      ">epoch=92, lrate=0.010, error=91.345\n",
      ">epoch=93, lrate=0.010, error=91.195\n",
      ">epoch=94, lrate=0.010, error=91.047\n",
      ">epoch=95, lrate=0.010, error=90.899\n",
      ">epoch=96, lrate=0.010, error=90.751\n",
      ">epoch=97, lrate=0.010, error=90.604\n",
      ">epoch=98, lrate=0.010, error=90.458\n",
      ">epoch=99, lrate=0.010, error=90.313\n",
      "[2.6623928451690384, 0.6415471340261141]\n"
     ]
    }
   ],
   "source": [
    "# Calculate coefficients\n",
    "dataset = [[random.randint(1,10), random.randint(1,10)], [random.randint(1,10), random.randint(1,10)], [random.randint(1,10), random.randint(1,10)],\n",
    "           [random.randint(1,10), random.randint(1,10)], [random.randint(1,10), random.randint(1,10)]]\n",
    "l_rate = 0.01\n",
    "n_epoch = 100\n",
    "coef = coefficients_sgd(dataset, l_rate, n_epoch)\n",
    "print(coef)"
   ]
  },
  {
   "cell_type": "markdown",
   "metadata": {},
   "source": [
    "#### *Código fuente y resultado de ejecución del algoritmo en Python*\n",
    "\n"
   ]
  },
  {
   "cell_type": "markdown",
   "metadata": {},
   "source": [
    "# Ejemplos de gráficos"
   ]
  },
  {
   "cell_type": "code",
   "execution_count": 40,
   "metadata": {},
   "outputs": [
    {
     "data": {
      "image/png": "[encoded data removed]",
      "text/plain": [
       "<Figure size 432x288 with 1 Axes>"
      ]
     },
     "metadata": {},
     "output_type": "display_data"
    }
   ],
   "source": [
    "import random\n",
    "import matplotlib.pyplot as plt\n",
    "import numpy as np\n",
    "\n",
    "# Funcion que devuelve el data set de datos para el polinomio seleccionado.\n",
    "def generar_puntos(polinomio):\n",
    "\tY=0\n",
    "\tdata_set=[]\n",
    "\tcont1=0\n",
    "\tcont2=0\n",
    "\twhile cont1< 5:\n",
    "\t\tX = 2 * np.random.randint(1,10)\n",
    "\t\twhile cont2< len(polinomio):\n",
    "\t\t\tY+=polinomio[cont2][0]*(X**polinomio[cont2][1])\n",
    "\t\t\tcont2+=1\n",
    "\t\tdata_set+=[[X,Y]]\n",
    "\t\tcont1+=1\n",
    "\n",
    "\treturn data_set\n",
    "    \n",
    "def predict(row, coefficients):\n",
    "\tyhat = coefficients[0]\n",
    "\tfor i in range(len(row)-1):\n",
    "\t\tyhat += coefficients[i + 1] * row[i]\n",
    "\treturn yhat\n",
    " \n",
    "# Estima los coeficientes de la linea de regresion usando stochastic gradient descent.\n",
    "def coefficients_sgd(train, l_rate, n_epoch):\n",
    "\tcoef = [0.0 for i in range(len(train[0]))]\n",
    "\tlista = []\n",
    "\tfor epoch in range(n_epoch):\n",
    "\t\tsum_error = 0\n",
    "\t\tfor row in train:\n",
    "\t\t\tyhat = predict(row, coef)\n",
    "\t\t\terror = yhat - row[-1]\n",
    "\t\t\tsum_error += error**2\n",
    "\t\t\tcoef[0] = coef[0] - l_rate * error\n",
    "\t\t\tfor i in range(len(row)-1):\n",
    "\t\t\t\tcoef[i + 1] = coef[i + 1] - l_rate * error * row[i]\n",
    "\t\t## print('>epoch=%d, lrate=%.3f, error=%.3f' % (epoch, l_rate, sum_error))\n",
    "\t\tlista+=[sum_error]\n",
    "\treturn coef, lista\n"
   ]
  },
  {
   "cell_type": "markdown",
   "metadata": {},
   "source": [
    "A continuación se mostrarán 2 gráficos que representarán polinomios previamente establecidos, pero con valores aleatorios de X."
   ]
  },
  {
   "cell_type": "code",
   "execution_count": 42,
   "metadata": {},
   "outputs": [
    {
     "data": {
      "image/png": "[encoded data removed]",
      "text/plain": [
       "<Figure size 432x288 with 1 Axes>"
      ]
     },
     "metadata": {},
     "output_type": "display_data"
    }
   ],
   "source": [
    "# Se establece la ecuacion del polinomio.\n",
    "polinomio=[[1,2],[1,1],[4,0]]\n",
    "\n",
    "\n",
    "dataset = generar_puntos(polinomio)\n",
    "l_rate = 0.01\n",
    "n_epoch = 100\n",
    "coef = coefficients_sgd(dataset, l_rate, n_epoch)\n",
    "#print(coef[0])\n",
    "\n",
    "plt.plot(coef[1])\n",
    "plt.ylabel('Error minimo')\n",
    "plt.xlabel('Epocas')\n",
    "plt.show()"
   ]
  },
  {
   "cell_type": "code",
   "execution_count": 41,
   "metadata": {},
   "outputs": [
    {
     "data": {
      "image/png": "[encoded data removed]",
      "text/plain": [
       "<Figure size 432x288 with 1 Axes>"
      ]
     },
     "metadata": {},
     "output_type": "display_data"
    }
   ],
   "source": [
    "polinomio=[[1,2],[1,1],[4,0]]\n",
    "\n",
    "\n",
    "dataset = generar_puntos(polinomio)\n",
    "l_rate = 0.01\n",
    "n_epoch = 100\n",
    "coef = coefficients_sgd(dataset, l_rate, n_epoch)\n",
    "#print(coef[0])\n",
    "\n",
    "plt.plot(coef[1])\n",
    "plt.ylabel('Error minimo')\n",
    "plt.xlabel('Epocas')\n",
    "plt.show()"
   ]
  },
  {
   "cell_type": "markdown",
   "metadata": {},
   "source": [
    "# Referencias Bibliográficas"
   ]
  },
  {
   "cell_type": "markdown",
   "metadata": {},
   "source": [
    "Anónimo. (2018). Descenso de Gradientes Estocástico \"SGD\" - ▷ Cursos Python y más desde 0 a Experto 🏆 garantizados. Retrieved from https://www.aprenderpython.net/descenso-gradientes-estocastico-sgd/\n",
    "\n",
    "Brownlee, J. (2018). How to Implement Linear Regression With Stochastic Gradient Descent From Scratch With Python. Retrieved from https://machinelearningmastery.com/implement-linear-regression-stochastic-gradient-descent-scratch-python/\n",
    "\n",
    "Python, I. (2018). Implementation of Stochastic Gradient Descent in Python. Retrieved from https://datascience.stackexchange.com/questions/30786/implementation-of-stochastic-gradient-descent-in-python\n",
    "\n",
    "Rosebrock, A. (2018). Stochastic Gradient Descent (SGD) with Python - PyImageSearch. Retrieved from https://www.pyimagesearch.com/2016/10/17/stochastic-gradient-descent-sgd-with-python/\n",
    "\n"
   ]
  }
 ],
 "metadata": {
  "kernelspec": {
   "display_name": "Python 3",
   "language": "python",
   "name": "python3"
  },
  "language_info": {
   "codemirror_mode": {
    "name": "ipython",
    "version": 3
   },
   "file_extension": ".py",
   "mimetype": "text/x-python",
   "name": "python",
   "nbconvert_exporter": "python",
   "pygments_lexer": "ipython3",
   "version": "3.6.5"
  }
 },
 "nbformat": 4,
 "nbformat_minor": 2
}
