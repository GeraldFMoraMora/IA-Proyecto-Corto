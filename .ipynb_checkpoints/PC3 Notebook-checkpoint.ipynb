{
<<<<<<< HEAD
 "cells": [],
 "metadata": {},
 "nbformat": 4,
 "nbformat_minor": 2
=======

 "cells": [
  {
   "cell_type": "code",
   "execution_count": null,
   "metadata": {},
   "outputs": [],
   "source": []
  }
 ],
 "metadata": {
  "kernelspec": {
   "display_name": "Python 3",
   "language": "python",
   "name": "python3"
  },
  "language_info": {
   "codemirror_mode": {
    "name": "ipython",
    "version": 3
   },
   "file_extension": ".py",
   "mimetype": "text/x-python",
   "name": "python",
   "nbconvert_exporter": "python",
   "pygments_lexer": "ipython3",
   "version": "3.6.5"
  }
 },

 "cells": [],
 "metadata": {},
>>>>>>> 6d9a9bff78d20b2ae98cbc675e7301fdc51e23a5
}
