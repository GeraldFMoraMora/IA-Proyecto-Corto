{
 "cells": [
  {
   "cell_type": "markdown",
   "metadata": {},
   "source": [
    "# Descenso de la Gradiente Estocástico (Stochastic Gradient Descent)\n",
    "\n",
    "Es un algoritmo de optimización de primer orden y una variación del algoritmo de descenso de la gradiente (Gradient Descent).\n",
    "\n",
    "Se utiliza para aprender un conjunto de coeficientes de clasificación para el aprendizaje parametrizado [1], implementado sobretodo en conjuntos grandes de datos, pues este es más rápido en comparación a otros métodos matemáticos como el método estándar de gradient descent, además de que a su misma vez se evita realizar desperdicios computacionales.\n",
    "\n",
    "La diferencia que presenta con respecto al método de descenso de la gradiente es que se actualiza la matriz de pesos W en pequeños conjuntos de o arreglos de datos de entrenamiento.\n",
    "\n",
    "Este algoritmo permite realizar más pasos sobre el gradiente lo cual implica un paso por lote en comparación a un paso por época, lo que permite una convergencia más rápida que no va a afectar la precisión ni la pérdida de la clasificación.\n",
    "\n",
    "El objetivo de desarrollo de este método es evitar lo que ocurría en grandes conjuntos de datos con el algoritmo de descenso de gradiente, en el que para cada iteración de descenso de gradiente se requiere que se calcule una predicción para cada punto de entrenamiento del conjunto de datos de entrenamiento, esto se traduce a que por el cálculo de predicciones para cada punto se debe realizar la actualización de la matriz de pesos W, lo cual es un desperdicio computacional.\n",
    "\n",
    "\n",
    "Ejecución del\n",
    "\n",
    "Ref.\n",
    "[1] https://www.pyimagesearch.com/2016/10/17/stochastic-gradient-descent-sgd-with-python/\n"
   ]
  },
  {
   "cell_type": "code",
   "execution_count": null,
   "metadata": {},
   "outputs": [],
   "source": []
  }
 ],
 "metadata": {
  "kernelspec": {
   "display_name": "Python 3",
   "language": "python",
   "name": "python3"
  },
  "language_info": {
   "codemirror_mode": {
    "name": "ipython",
    "version": 3
   },
   "file_extension": ".py",
   "mimetype": "text/x-python",
   "name": "python",
   "nbconvert_exporter": "python",
   "pygments_lexer": "ipython3",
   "version": "3.6.5"
  }
 },
 "nbformat": 4,
 "nbformat_minor": 2
}
